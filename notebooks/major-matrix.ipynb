{
 "cells": [
  {
   "cell_type": "code",
   "execution_count": 18,
   "metadata": {
    "collapsed": true
   },
   "outputs": [],
   "source": [
    "from datascience import *\n",
    "%matplotlib inline\n",
    "import matplotlib.pyplot as plt\n",
    "import glob\n",
    "import pandas as pd"
   ]
  },
  {
   "cell_type": "code",
   "execution_count": 19,
   "metadata": {
    "collapsed": false
   },
   "outputs": [],
   "source": [
    "filenames = (glob.glob(\"data/spring17_by_major/*.csv\"))"
   ]
  },
  {
   "cell_type": "code",
   "execution_count": 20,
   "metadata": {
    "collapsed": false
   },
   "outputs": [
    {
     "data": {
      "text/html": [
       "<div>\n",
       "<table border=\"1\" class=\"dataframe\">\n",
       "  <thead>\n",
       "    <tr style=\"text-align: right;\">\n",
       "      <th></th>\n",
       "      <th>Unnamed: 0</th>\n",
       "      <th>Semester Year Name Concat</th>\n",
       "      <th>Enrollment Cnt</th>\n",
       "      <th>Course Subject Short Nm</th>\n",
       "      <th>Course Number</th>\n",
       "      <th>Section Nbr</th>\n",
       "      <th>Crs Rpt College Schl Shrt Nm</th>\n",
       "      <th>Major</th>\n",
       "    </tr>\n",
       "  </thead>\n",
       "  <tbody>\n",
       "    <tr>\n",
       "      <th>0</th>\n",
       "      <td>0</td>\n",
       "      <td>2017 Spring</td>\n",
       "      <td>3</td>\n",
       "      <td>African American Studies</td>\n",
       "      <td>5B</td>\n",
       "      <td>1</td>\n",
       "      <td>Clg of Letters &amp; Science</td>\n",
       "      <td>african american studies</td>\n",
       "    </tr>\n",
       "    <tr>\n",
       "      <th>1</th>\n",
       "      <td>1</td>\n",
       "      <td>2017 Spring</td>\n",
       "      <td>1</td>\n",
       "      <td>African American Studies</td>\n",
       "      <td>11B</td>\n",
       "      <td>1</td>\n",
       "      <td>Clg of Letters &amp; Science</td>\n",
       "      <td>african american studies</td>\n",
       "    </tr>\n",
       "    <tr>\n",
       "      <th>2</th>\n",
       "      <td>2</td>\n",
       "      <td>2017 Spring</td>\n",
       "      <td>1</td>\n",
       "      <td>African American Studies</td>\n",
       "      <td>28AC</td>\n",
       "      <td>1</td>\n",
       "      <td>Clg of Letters &amp; Science</td>\n",
       "      <td>african american studies</td>\n",
       "    </tr>\n",
       "    <tr>\n",
       "      <th>3</th>\n",
       "      <td>3</td>\n",
       "      <td>2017 Spring</td>\n",
       "      <td>2</td>\n",
       "      <td>African American Studies</td>\n",
       "      <td>101</td>\n",
       "      <td>1</td>\n",
       "      <td>Clg of Letters &amp; Science</td>\n",
       "      <td>african american studies</td>\n",
       "    </tr>\n",
       "    <tr>\n",
       "      <th>4</th>\n",
       "      <td>4</td>\n",
       "      <td>2017 Spring</td>\n",
       "      <td>1</td>\n",
       "      <td>African American Studies</td>\n",
       "      <td>115</td>\n",
       "      <td>1</td>\n",
       "      <td>Clg of Letters &amp; Science</td>\n",
       "      <td>african american studies</td>\n",
       "    </tr>\n",
       "  </tbody>\n",
       "</table>\n",
       "</div>"
      ],
      "text/plain": [
       "   Unnamed: 0 Semester Year Name Concat  Enrollment Cnt  \\\n",
       "0           0               2017 Spring               3   \n",
       "1           1               2017 Spring               1   \n",
       "2           2               2017 Spring               1   \n",
       "3           3               2017 Spring               2   \n",
       "4           4               2017 Spring               1   \n",
       "\n",
       "    Course Subject Short Nm Course Number  Section Nbr  \\\n",
       "0  African American Studies            5B            1   \n",
       "1  African American Studies           11B            1   \n",
       "2  African American Studies          28AC            1   \n",
       "3  African American Studies           101            1   \n",
       "4  African American Studies           115            1   \n",
       "\n",
       "  Crs Rpt College Schl Shrt Nm                     Major  \n",
       "0     Clg of Letters & Science  african american studies  \n",
       "1     Clg of Letters & Science  african american studies  \n",
       "2     Clg of Letters & Science  african american studies  \n",
       "3     Clg of Letters & Science  african american studies  \n",
       "4     Clg of Letters & Science  african american studies  "
      ]
     },
     "execution_count": 20,
     "metadata": {},
     "output_type": "execute_result"
    }
   ],
   "source": [
    "first = pd.read_csv(filenames[0])\n",
    "first.head(5)"
   ]
  },
  {
   "cell_type": "code",
   "execution_count": 21,
   "metadata": {
    "collapsed": false
   },
   "outputs": [],
   "source": [
    "def get_major_from_filename(filename):\n",
    "    return filename.split(\"/\")[-1].split(\".\")[0].replace(\"_\", \" \")\n",
    "\n",
    "def get_filename_from_major(major):\n",
    "    return \"data/spring17_by_major/\" + major.replace(\" \", \"_\") + \".csv\"\n",
    "\n",
    "def add_major_to_csvs(filenames):\n",
    "    for i in range(len(filenames)):\n",
    "        filename = filenames[i]\n",
    "        df = pd.read_csv(filename, index_col=None)\n",
    "        df[\"Major\"] = get_major_from_filename(filename)\n",
    "        df.to_csv(filename, index=False)\n",
    "    print(\"Added major column to csvs\")"
   ]
  },
  {
   "cell_type": "code",
   "execution_count": 22,
   "metadata": {
    "collapsed": true
   },
   "outputs": [],
   "source": [
    "def building_single_df(filenames):\n",
    "    agg_df = pd.read_csv(filenames[0])\n",
    "    for i in range(len(filenames))[1:]:\n",
    "        agg_df = agg_df.append(pd.read_csv(filenames[i]))\n",
    "    return agg_df\n",
    "\n",
    "def sanity_check(filenames):\n",
    "    total = 0\n",
    "    for i in range(len(filenames)):\n",
    "        subtotal = sum(Table.read_table(filenames[i]).column(\"Enrollment Cnt\"))\n",
    "        print(filenames[i], subtotal)\n",
    "        total += subtotal\n",
    "    return total"
   ]
  },
  {
   "cell_type": "code",
   "execution_count": 23,
   "metadata": {
    "collapsed": false
   },
   "outputs": [],
   "source": [
    "agg_df = building_single_df(filenames)"
   ]
  },
  {
   "cell_type": "code",
   "execution_count": 24,
   "metadata": {
    "collapsed": false
   },
   "outputs": [
    {
     "data": {
      "text/html": [
       "<div>\n",
       "<table border=\"1\" class=\"dataframe\">\n",
       "  <thead>\n",
       "    <tr style=\"text-align: right;\">\n",
       "      <th></th>\n",
       "      <th>Unnamed: 0</th>\n",
       "      <th>Semester Year Name Concat</th>\n",
       "      <th>Enrollment Cnt</th>\n",
       "      <th>Course Subject Short Nm</th>\n",
       "      <th>Course Number</th>\n",
       "      <th>Section Nbr</th>\n",
       "      <th>Crs Rpt College Schl Shrt Nm</th>\n",
       "      <th>Major</th>\n",
       "    </tr>\n",
       "  </thead>\n",
       "  <tbody>\n",
       "    <tr>\n",
       "      <th>0</th>\n",
       "      <td>0</td>\n",
       "      <td>2017 Spring</td>\n",
       "      <td>3</td>\n",
       "      <td>African American Studies</td>\n",
       "      <td>5B</td>\n",
       "      <td>1</td>\n",
       "      <td>Clg of Letters &amp; Science</td>\n",
       "      <td>african american studies</td>\n",
       "    </tr>\n",
       "    <tr>\n",
       "      <th>1</th>\n",
       "      <td>1</td>\n",
       "      <td>2017 Spring</td>\n",
       "      <td>1</td>\n",
       "      <td>African American Studies</td>\n",
       "      <td>11B</td>\n",
       "      <td>1</td>\n",
       "      <td>Clg of Letters &amp; Science</td>\n",
       "      <td>african american studies</td>\n",
       "    </tr>\n",
       "    <tr>\n",
       "      <th>2</th>\n",
       "      <td>2</td>\n",
       "      <td>2017 Spring</td>\n",
       "      <td>1</td>\n",
       "      <td>African American Studies</td>\n",
       "      <td>28AC</td>\n",
       "      <td>1</td>\n",
       "      <td>Clg of Letters &amp; Science</td>\n",
       "      <td>african american studies</td>\n",
       "    </tr>\n",
       "    <tr>\n",
       "      <th>3</th>\n",
       "      <td>3</td>\n",
       "      <td>2017 Spring</td>\n",
       "      <td>2</td>\n",
       "      <td>African American Studies</td>\n",
       "      <td>101</td>\n",
       "      <td>1</td>\n",
       "      <td>Clg of Letters &amp; Science</td>\n",
       "      <td>african american studies</td>\n",
       "    </tr>\n",
       "    <tr>\n",
       "      <th>4</th>\n",
       "      <td>4</td>\n",
       "      <td>2017 Spring</td>\n",
       "      <td>1</td>\n",
       "      <td>African American Studies</td>\n",
       "      <td>115</td>\n",
       "      <td>1</td>\n",
       "      <td>Clg of Letters &amp; Science</td>\n",
       "      <td>african american studies</td>\n",
       "    </tr>\n",
       "  </tbody>\n",
       "</table>\n",
       "</div>"
      ],
      "text/plain": [
       "   Unnamed: 0 Semester Year Name Concat  Enrollment Cnt  \\\n",
       "0           0               2017 Spring               3   \n",
       "1           1               2017 Spring               1   \n",
       "2           2               2017 Spring               1   \n",
       "3           3               2017 Spring               2   \n",
       "4           4               2017 Spring               1   \n",
       "\n",
       "    Course Subject Short Nm Course Number  Section Nbr  \\\n",
       "0  African American Studies            5B            1   \n",
       "1  African American Studies           11B            1   \n",
       "2  African American Studies          28AC            1   \n",
       "3  African American Studies           101            1   \n",
       "4  African American Studies           115            1   \n",
       "\n",
       "  Crs Rpt College Schl Shrt Nm                     Major  \n",
       "0     Clg of Letters & Science  african american studies  \n",
       "1     Clg of Letters & Science  african american studies  \n",
       "2     Clg of Letters & Science  african american studies  \n",
       "3     Clg of Letters & Science  african american studies  \n",
       "4     Clg of Letters & Science  african american studies  "
      ]
     },
     "execution_count": 24,
     "metadata": {},
     "output_type": "execute_result"
    }
   ],
   "source": [
    "agg_df.head(5)"
   ]
  },
  {
   "cell_type": "code",
   "execution_count": 25,
   "metadata": {
    "collapsed": false
   },
   "outputs": [
    {
     "data": {
      "text/html": [
       "<div>\n",
       "<table border=\"1\" class=\"dataframe\">\n",
       "  <thead>\n",
       "    <tr style=\"text-align: right;\">\n",
       "      <th>Course Subject Short Nm</th>\n",
       "      <th>Computer Science</th>\n",
       "      <th>Mathematics</th>\n",
       "      <th>Business Admin-Undergrad</th>\n",
       "      <th>Economics</th>\n",
       "      <th>Chemistry</th>\n",
       "      <th>Psychology</th>\n",
       "      <th>Sociology</th>\n",
       "      <th>Physical Education</th>\n",
       "      <th>History</th>\n",
       "      <th>Physics</th>\n",
       "      <th>...</th>\n",
       "      <th>Music</th>\n",
       "      <th>Anthropology</th>\n",
       "      <th>Biology</th>\n",
       "      <th>Integrative Biology</th>\n",
       "      <th>Electrical Engineering</th>\n",
       "      <th>Public Health</th>\n",
       "      <th>Nutritional Science &amp; Tox</th>\n",
       "      <th>Philosophy</th>\n",
       "      <th>Mechanical Engineering</th>\n",
       "      <th>Education</th>\n",
       "    </tr>\n",
       "  </thead>\n",
       "  <tbody>\n",
       "    <tr>\n",
       "      <th>Total Prop</th>\n",
       "      <td>0.081479</td>\n",
       "      <td>0.06651</td>\n",
       "      <td>0.041211</td>\n",
       "      <td>0.038221</td>\n",
       "      <td>0.036741</td>\n",
       "      <td>0.036534</td>\n",
       "      <td>0.034039</td>\n",
       "      <td>0.033439</td>\n",
       "      <td>0.029153</td>\n",
       "      <td>0.027042</td>\n",
       "      <td>...</td>\n",
       "      <td>0.018447</td>\n",
       "      <td>0.017095</td>\n",
       "      <td>0.016088</td>\n",
       "      <td>0.015816</td>\n",
       "      <td>0.015808</td>\n",
       "      <td>0.01576</td>\n",
       "      <td>0.014417</td>\n",
       "      <td>0.01253</td>\n",
       "      <td>0.012354</td>\n",
       "      <td>0.010875</td>\n",
       "    </tr>\n",
       "  </tbody>\n",
       "</table>\n",
       "<p>1 rows × 25 columns</p>\n",
       "</div>"
      ],
      "text/plain": [
       "Course Subject Short Nm  Computer Science  Mathematics  \\\n",
       "Total Prop                       0.081479      0.06651   \n",
       "\n",
       "Course Subject Short Nm  Business Admin-Undergrad  Economics  Chemistry  \\\n",
       "Total Prop                               0.041211   0.038221   0.036741   \n",
       "\n",
       "Course Subject Short Nm  Psychology  Sociology  Physical Education   History  \\\n",
       "Total Prop                 0.036534   0.034039            0.033439  0.029153   \n",
       "\n",
       "Course Subject Short Nm   Physics    ...         Music  Anthropology  \\\n",
       "Total Prop               0.027042    ...      0.018447      0.017095   \n",
       "\n",
       "Course Subject Short Nm   Biology  Integrative Biology  \\\n",
       "Total Prop               0.016088             0.015816   \n",
       "\n",
       "Course Subject Short Nm  Electrical Engineering  Public Health  \\\n",
       "Total Prop                             0.015808        0.01576   \n",
       "\n",
       "Course Subject Short Nm  Nutritional Science & Tox  Philosophy  \\\n",
       "Total Prop                                0.014417     0.01253   \n",
       "\n",
       "Course Subject Short Nm  Mechanical Engineering  Education  \n",
       "Total Prop                             0.012354   0.010875  \n",
       "\n",
       "[1 rows x 25 columns]"
      ]
     },
     "execution_count": 25,
     "metadata": {},
     "output_type": "execute_result"
    }
   ],
   "source": [
    "agg_prop = agg_df.groupby(['Course Subject Short Nm']).sum()\n",
    "agg_prop['Total Prop'] = agg_prop['Enrollment Cnt']/sum(agg_prop['Enrollment Cnt'])\n",
    "major_prop_all = (agg_prop.iloc[:, 3:]).sort_values(\"Total Prop\", ascending=False).take(range(0, 25)).transpose()\n",
    "major_prop_all # Description: Top 25 of the most enrolled in course subjects aka departments. "
   ]
  },
  {
   "cell_type": "code",
   "execution_count": 26,
   "metadata": {
    "collapsed": false
   },
   "outputs": [],
   "source": [
    "def major_prop(filename):\n",
    "    major = get_major_from_filename(filename)\n",
    "    major_df = pd.read_csv(filename)\n",
    "    major_df = major_df.groupby(['Course Subject Short Nm']).sum()\n",
    "    \n",
    "    # Proportion of the <major> that enrolled in each respective department (Course Subject)\n",
    "    major_df[major] = major_df['Enrollment Cnt']/sum(major_df['Enrollment Cnt'])\n",
    "    major_df = (major_df.iloc[:, 3:]).transpose()\n",
    "    return major_df\n",
    "\n",
    "def build_major_props_df(top_num, total_prop_df): #top_num = top 80 => 80 \n",
    "    majors = list(agg_df.groupby('Major')[['Enrollment Cnt']].sum().sort_values('Enrollment Cnt', ascending=False).take(range(top_num+1)).index)\n",
    "    filenames = [get_filename_from_major(major) for major in majors if major != \"ls undeclared\"]\n",
    "    rv_df = major_prop(filenames[0])\n",
    "    for i in range(len(filenames))[1:]:\n",
    "        inter_df = major_prop(filenames[i])\n",
    "        rv_df = rv_df.append(inter_df)\n",
    "    rv_df = rv_df[list(total_prop_df.columns)]\n",
    "    rv_df = total_prop_df.append(rv_df).fillna(0)\n",
    "    for column in total_prop_df:\n",
    "        rv_df[column] = rv_df[column]/total_prop_df[column][0]\n",
    "    return rv_df.iloc[1:, :]"
   ]
  },
  {
   "cell_type": "code",
   "execution_count": 27,
   "metadata": {
    "collapsed": false
   },
   "outputs": [],
   "source": [
    "major_prop_all_proto = build_major_props_df(80, major_prop_all)"
   ]
  },
  {
   "cell_type": "code",
   "execution_count": 28,
   "metadata": {
    "collapsed": false
   },
   "outputs": [],
   "source": [
    "major_prop_all = pd.DataFrame(columns=['Major', 'Department', 'Ratio'])\n",
    "major = []\n",
    "dept = []\n",
    "ratio = []\n",
    "for i in range(major_prop_all_proto.shape[0]):\n",
    "    this = major_prop_all_proto.iloc[i, :]\n",
    "    major += ([this.name] * len(list(this)))\n",
    "    ratio += list(this)\n",
    "    dept += list(this.index)\n",
    "major_prop_all['Major'] = major\n",
    "major_prop_all['Department'] = dept\n",
    "major_prop_all['Ratio'] = ratio"
   ]
  },
  {
   "cell_type": "markdown",
   "metadata": {},
   "source": [
    "### Building ordering to produce \"diagonal\" effect"
   ]
  },
  {
   "cell_type": "code",
   "execution_count": null,
   "metadata": {
    "collapsed": false
   },
   "outputs": [],
   "source": [
    "table = Table().from_df(major_prop_all)\n",
    "tabledict = {}\n",
    "for major in table.column('Major'):\n",
    "    sub = table.where('Major', major)\n",
    "    zipped = zip(sub.column('Department'), sub.column('Ratio'))\n",
    "    maximum = max(sub.column('Ratio'))\n",
    "    darkest = [d for d, r in zipped if r == maximum]\n",
    "    tabledict[major] = [darkest[0], maximum]\n",
    "\n",
    "order = Table(['order_Major', 'order_Department', 'order_Ratio'])\n",
    "for key in tabledict:\n",
    "    elem = tabledict[key]\n",
    "    order = order.append([key, elem[0], elem[1]])\n",
    "    \n",
    "orderDept = order.group('order_Department').sort('count', descending=False).column('order_Department')"
   ]
  },
  {
   "cell_type": "code",
   "execution_count": null,
   "metadata": {
    "collapsed": true
   },
   "outputs": [],
   "source": [
    "orderdf = Table.to_df(order)\n",
    "orderdf['Department'] = orderdf['order_Department'].map(dict(zip(orderDept, np.arange(0, len(orderDept)))))\n",
    "\n",
    "orderMajor = list(orderdf.sort_values('Department')['order_Major'])"
   ]
  },
  {
   "cell_type": "code",
   "execution_count": null,
   "metadata": {
    "collapsed": true
   },
   "outputs": [],
   "source": [
    "major_prop_all['order_Department'] = major_prop_all['Department'].map(dict(zip(orderDept, np.arange(0, len(orderDept)))))\n",
    "major_prop_all['order_Major'] = major_prop_all['Major'].map(dict(zip(orderMajor, np.arange(0, len(orderMajor)))))\n",
    "\n",
    "result = Table().from_df(major_prop_all).groups(['order_Department', 'order_Major'], lambda x: x[0])"
   ]
  }
 ],
 "metadata": {
  "anaconda-cloud": {},
  "kernelspec": {
   "display_name": "Python [ds100]",
   "language": "python",
   "name": "Python [ds100]"
  },
  "language_info": {
   "codemirror_mode": {
    "name": "ipython",
    "version": 3
   },
   "file_extension": ".py",
   "mimetype": "text/x-python",
   "name": "python",
   "nbconvert_exporter": "python",
   "pygments_lexer": "ipython3",
   "version": "3.5.2"
  }
 },
 "nbformat": 4,
 "nbformat_minor": 0
}
